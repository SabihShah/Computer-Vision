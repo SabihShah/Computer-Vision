{
 "cells": [
  {
   "cell_type": "code",
   "execution_count": 9,
   "metadata": {},
   "outputs": [],
   "source": [
    "import cv2 as cv\n",
    "import numpy as np\n",
    "import matplotlib.pyplot as plt\n",
    "\n",
    "img = cv.imread('sudoku.png')\n",
    "\n",
    "# plt.imshow(img)\n",
    "\n",
    "# cv.imshow('IMAGE', img)\n",
    "\n",
    "# cv.waitKey(0)"
   ]
  },
  {
   "cell_type": "code",
   "execution_count": 10,
   "metadata": {},
   "outputs": [],
   "source": [
    "gray = cv.cvtColor(img, cv.COLOR_BGR2GRAY)\n",
    "\n",
    "edges = cv.Canny(gray, 50, 150)\n",
    "\n",
    "# cv.imshow(\"GRAY\", gray)\n",
    "# cv.imshow(\"EDGES\", edges)\n",
    "# cv.imshow(\"BLUR\", blur)\n",
    "# cv.waitKey(0)"
   ]
  },
  {
   "cell_type": "code",
   "execution_count": 11,
   "metadata": {},
   "outputs": [
    {
     "name": "stdout",
     "output_type": "stream",
     "text": [
      "59\n",
      "[[531 489 531   2]]\n"
     ]
    },
    {
     "data": {
      "text/plain": [
       "-1"
      ]
     },
     "execution_count": 11,
     "metadata": {},
     "output_type": "execute_result"
    }
   ],
   "source": [
    "copy = np.copy(img)\n",
    "\n",
    "Lines = cv.HoughLinesP(edges, 1, np.pi/180, 100, maxLineGap=250)\n",
    "print(len(Lines))\n",
    "print(Lines[0])\n",
    "for line in Lines:\n",
    "    x1, y1, x2, y2 = line[0]\n",
    "    cv.line(copy, (x1, y1), (x2, y2), (0,255,0), 2)\n",
    "\n",
    "\n",
    "cv.imshow(\"Lines\", copy)\n",
    "cv.waitKey(0)"
   ]
  },
  {
   "cell_type": "code",
   "execution_count": 12,
   "metadata": {},
   "outputs": [
    {
     "name": "stdout",
     "output_type": "stream",
     "text": [
      "43\n",
      "[[2.        1.5707964]]\n"
     ]
    },
    {
     "data": {
      "text/plain": [
       "-1"
      ]
     },
     "execution_count": 12,
     "metadata": {},
     "output_type": "execute_result"
    }
   ],
   "source": [
    "copy2 = np.copy(img)\n",
    "\n",
    "lines = cv.HoughLines(edges, 1, np.pi/180, 150)\n",
    "print(len(lines))\n",
    "print(lines[0])\n",
    "for line in lines:\n",
    "\n",
    "    rho,theta = line[0]\n",
    "    a = np.cos(theta)\n",
    "    b = np.sin(theta)\n",
    "    x0 = a*rho\n",
    "    y0 = b*rho\n",
    "    x1 = int(x0 + 1000*(-b))\n",
    "    y1 = int(y0 + 1000*(a))\n",
    "    x2 = int(x0 - 1000*(-b))\n",
    "    y2 = int(y0 - 1000*(a))\n",
    "\n",
    "    cv.line(copy2,(x1,y1),(x2,y2),(0,0,255),2)\n",
    "\n",
    "cv.imshow(\"Lines\", copy2)\n",
    "cv.waitKey(0)"
   ]
  }
 ],
 "metadata": {
  "kernelspec": {
   "display_name": "Python 3",
   "language": "python",
   "name": "python3"
  },
  "language_info": {
   "codemirror_mode": {
    "name": "ipython",
    "version": 3
   },
   "file_extension": ".py",
   "mimetype": "text/x-python",
   "name": "python",
   "nbconvert_exporter": "python",
   "pygments_lexer": "ipython3",
   "version": "3.10.11"
  },
  "orig_nbformat": 4
 },
 "nbformat": 4,
 "nbformat_minor": 2
}
